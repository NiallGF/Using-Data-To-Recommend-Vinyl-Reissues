{
 "cells": [
  {
   "cell_type": "code",
   "execution_count": 12,
   "metadata": {},
   "outputs": [
    {
     "data": {
      "text/html": [
       "<div>\n",
       "<style scoped>\n",
       "    .dataframe tbody tr th:only-of-type {\n",
       "        vertical-align: middle;\n",
       "    }\n",
       "\n",
       "    .dataframe tbody tr th {\n",
       "        vertical-align: top;\n",
       "    }\n",
       "\n",
       "    .dataframe thead th {\n",
       "        text-align: right;\n",
       "    }\n",
       "</style>\n",
       "<table border=\"1\" class=\"dataframe\">\n",
       "  <thead>\n",
       "    <tr style=\"text-align: right;\">\n",
       "      <th></th>\n",
       "      <th>Title</th>\n",
       "      <th>Genre</th>\n",
       "      <th>ReleaseYear</th>\n",
       "      <th>Rating</th>\n",
       "      <th>Reviews</th>\n",
       "    </tr>\n",
       "  </thead>\n",
       "  <tbody>\n",
       "    <tr>\n",
       "      <th>0</th>\n",
       "      <td>The Shawshank Redemption</td>\n",
       "      <td>Drama</td>\n",
       "      <td>1994</td>\n",
       "      <td>9.3</td>\n",
       "      <td>2345678</td>\n",
       "    </tr>\n",
       "    <tr>\n",
       "      <th>1</th>\n",
       "      <td>The Godfather</td>\n",
       "      <td>Crime</td>\n",
       "      <td>1972</td>\n",
       "      <td>9.2</td>\n",
       "      <td>1623456</td>\n",
       "    </tr>\n",
       "    <tr>\n",
       "      <th>2</th>\n",
       "      <td>The Dark Knight</td>\n",
       "      <td>Action</td>\n",
       "      <td>2008</td>\n",
       "      <td>9.0</td>\n",
       "      <td>2304567</td>\n",
       "    </tr>\n",
       "    <tr>\n",
       "      <th>3</th>\n",
       "      <td>12 Angry Men</td>\n",
       "      <td>Drama</td>\n",
       "      <td>1957</td>\n",
       "      <td>9.0</td>\n",
       "      <td>1345678</td>\n",
       "    </tr>\n",
       "    <tr>\n",
       "      <th>4</th>\n",
       "      <td>Schindler's List</td>\n",
       "      <td>Biography</td>\n",
       "      <td>1993</td>\n",
       "      <td>8.9</td>\n",
       "      <td>1234567</td>\n",
       "    </tr>\n",
       "    <tr>\n",
       "      <th>5</th>\n",
       "      <td>The Lord of the Rings: The Return of the King</td>\n",
       "      <td>Adventure</td>\n",
       "      <td>2003</td>\n",
       "      <td>8.9</td>\n",
       "      <td>1234567</td>\n",
       "    </tr>\n",
       "    <tr>\n",
       "      <th>6</th>\n",
       "      <td>Pulp Fiction</td>\n",
       "      <td>Crime</td>\n",
       "      <td>1994</td>\n",
       "      <td>8.9</td>\n",
       "      <td>1987654</td>\n",
       "    </tr>\n",
       "    <tr>\n",
       "      <th>7</th>\n",
       "      <td>The Good, the Bad and the Ugly</td>\n",
       "      <td>Western</td>\n",
       "      <td>1966</td>\n",
       "      <td>8.8</td>\n",
       "      <td>987654</td>\n",
       "    </tr>\n",
       "    <tr>\n",
       "      <th>8</th>\n",
       "      <td>Fight Club</td>\n",
       "      <td>Drama</td>\n",
       "      <td>1999</td>\n",
       "      <td>8.8</td>\n",
       "      <td>2345678</td>\n",
       "    </tr>\n",
       "    <tr>\n",
       "      <th>9</th>\n",
       "      <td>Forrest Gump</td>\n",
       "      <td>Drama</td>\n",
       "      <td>1994</td>\n",
       "      <td>8.8</td>\n",
       "      <td>2345678</td>\n",
       "    </tr>\n",
       "  </tbody>\n",
       "</table>\n",
       "</div>"
      ],
      "text/plain": [
       "                                           Title      Genre  ReleaseYear  \\\n",
       "0                       The Shawshank Redemption      Drama         1994   \n",
       "1                                  The Godfather      Crime         1972   \n",
       "2                                The Dark Knight     Action         2008   \n",
       "3                                   12 Angry Men      Drama         1957   \n",
       "4                               Schindler's List  Biography         1993   \n",
       "5  The Lord of the Rings: The Return of the King  Adventure         2003   \n",
       "6                                   Pulp Fiction      Crime         1994   \n",
       "7                 The Good, the Bad and the Ugly    Western         1966   \n",
       "8                                     Fight Club      Drama         1999   \n",
       "9                                   Forrest Gump      Drama         1994   \n",
       "\n",
       "   Rating  Reviews  \n",
       "0     9.3  2345678  \n",
       "1     9.2  1623456  \n",
       "2     9.0  2304567  \n",
       "3     9.0  1345678  \n",
       "4     8.9  1234567  \n",
       "5     8.9  1234567  \n",
       "6     8.9  1987654  \n",
       "7     8.8   987654  \n",
       "8     8.8  2345678  \n",
       "9     8.8  2345678  "
      ]
     },
     "execution_count": 12,
     "metadata": {},
     "output_type": "execute_result"
    }
   ],
   "source": [
    "import pandas as pd\n",
    "import numpy as np\n",
    "import matplotlib.pyplot as plt\n",
    "\n",
    "from pandas import Series, DataFrame\n",
    "\n",
    "data = {\n",
    "    \"Title\": [\"The Shawshank Redemption\", \"The Godfather\", \"The Dark Knight\", \"12 Angry Men\", \"Schindler's List\",\n",
    "              \"The Lord of the Rings: The Return of the King\", \"Pulp Fiction\", \"The Good, the Bad and the Ugly\",\n",
    "              \"Fight Club\", \"Forrest Gump\"],\n",
    "    \"Genre\": [\"Drama\", \"Crime\", \"Action\", \"Drama\", \"Biography\", \"Adventure\", \"Crime\", \"Western\", \"Drama\", \"Drama\"],\n",
    "    \"ReleaseYear\": [1994, 1972, 2008, 1957, 1993, 2003, 1994, 1966, 1999, 1994],\n",
    "    \"Rating\": [9.3, 9.2, 9.0, 9.0, 8.9, 8.9, 8.9, 8.8, 8.8, 8.8],\n",
    "    \"Reviews\": [2345678, 1623456, 2304567, 1345678, 1234567, 1234567, 1987654, 987654, 2345678, 2345678]\n",
    "}\n",
    "\n",
    "df = pd.DataFrame(data)\n",
    "df\n"
   ]
  },
  {
   "cell_type": "markdown",
   "metadata": {},
   "source": [
    "**Task 1: Data Exploration**\n",
    "\n",
    "Display the first few rows of the dataset: Use the head() method to display the first few rows of the DataFrame.\n",
    "Summary Statistics: Display summary statistics for the numeric columns using the describe() method.\n",
    "Missing Values: Check for any missing values in the dataset.\n",
    "\n",
    "\n",
    "**Task 2: Visualize the Distribution of Ratings**\n",
    "\n",
    "Create a histogram to visualize the distribution of movie ratings.\n",
    "Interpret the histogram: Describe what the histogram tells you about the distribution of ratings.\n",
    "\n",
    "\n",
    "**Task 3: Genre Analysis**\n",
    "\n",
    "Bar Plot of Genre Counts: Create a bar plot showing the number of movies in each genre.\n",
    "Most Common Genre: Identify the most common genre in the dataset.\n",
    "Least Common Genre: Identify the least common genre in the dataset.\n",
    "\n",
    "\n",
    "**Task 4: Correlation Analysis**\n",
    "\n",
    "Correlation Matrix: Calculate and display the correlation matrix for the numeric columns.\n",
    "Interpret Correlations: Describe the correlations between Rating and Reviews.\n",
    "\n",
    "\n",
    "**Task 5: Relationship Between Rating and Reviews**\n",
    "\n",
    "Scatter Plot: Create a scatter plot to visualize the relationship between ratings and the number of reviews.\n",
    "Best Fit Line: Add a best fit line to the scatter plot.\n",
    "Interpret the Scatter Plot: Describe any patterns or trends you observe.\n",
    "\n",
    "\n",
    "**Task 6: Top Rated Movies**\n",
    "\n",
    "Top 3 Movies: Identify and display the top 3 highest-rated movies.\n",
    "Top Rated Movie per Genre: Identify and display the highest-rated movie in each genre.\n",
    "\n",
    "\n",
    "**Task 7: Average Ratings**\n",
    "\n",
    "Average Rating by Genre: Calculate and display the average rating for each genre.\n",
    "Bar Plot of Average Ratings: Create a bar plot to visualize the average rating for each genre.\n",
    "\n",
    "\n",
    "**Task 8: Time Trend Analysis**\n",
    "\n",
    "Line Plot of Average Rating Over Time: Calculate the average rating per year and create a line plot.\n",
    "Number of Movies Released Per Year: Create a bar plot to show the number of movies released each year."
   ]
  },
  {
   "cell_type": "markdown",
   "metadata": {},
   "source": [
    "**Task 1**"
   ]
  },
  {
   "cell_type": "code",
   "execution_count": 4,
   "metadata": {},
   "outputs": [
    {
     "data": {
      "text/html": [
       "<div>\n",
       "<style scoped>\n",
       "    .dataframe tbody tr th:only-of-type {\n",
       "        vertical-align: middle;\n",
       "    }\n",
       "\n",
       "    .dataframe tbody tr th {\n",
       "        vertical-align: top;\n",
       "    }\n",
       "\n",
       "    .dataframe thead th {\n",
       "        text-align: right;\n",
       "    }\n",
       "</style>\n",
       "<table border=\"1\" class=\"dataframe\">\n",
       "  <thead>\n",
       "    <tr style=\"text-align: right;\">\n",
       "      <th></th>\n",
       "      <th>Title</th>\n",
       "      <th>Genre</th>\n",
       "      <th>ReleaseYear</th>\n",
       "      <th>Rating</th>\n",
       "      <th>Reviews</th>\n",
       "    </tr>\n",
       "  </thead>\n",
       "  <tbody>\n",
       "    <tr>\n",
       "      <th>0</th>\n",
       "      <td>The Shawshank Redemption</td>\n",
       "      <td>Drama</td>\n",
       "      <td>1994</td>\n",
       "      <td>9.3</td>\n",
       "      <td>2345678</td>\n",
       "    </tr>\n",
       "    <tr>\n",
       "      <th>1</th>\n",
       "      <td>The Godfather</td>\n",
       "      <td>Crime</td>\n",
       "      <td>1972</td>\n",
       "      <td>9.2</td>\n",
       "      <td>1623456</td>\n",
       "    </tr>\n",
       "    <tr>\n",
       "      <th>2</th>\n",
       "      <td>The Dark Knight</td>\n",
       "      <td>Action</td>\n",
       "      <td>2008</td>\n",
       "      <td>9.0</td>\n",
       "      <td>2304567</td>\n",
       "    </tr>\n",
       "    <tr>\n",
       "      <th>3</th>\n",
       "      <td>12 Angry Men</td>\n",
       "      <td>Drama</td>\n",
       "      <td>1957</td>\n",
       "      <td>9.0</td>\n",
       "      <td>1345678</td>\n",
       "    </tr>\n",
       "    <tr>\n",
       "      <th>4</th>\n",
       "      <td>Schindler's List</td>\n",
       "      <td>Biography</td>\n",
       "      <td>1993</td>\n",
       "      <td>8.9</td>\n",
       "      <td>1234567</td>\n",
       "    </tr>\n",
       "  </tbody>\n",
       "</table>\n",
       "</div>"
      ],
      "text/plain": [
       "                      Title      Genre  ReleaseYear  Rating  Reviews\n",
       "0  The Shawshank Redemption      Drama         1994     9.3  2345678\n",
       "1             The Godfather      Crime         1972     9.2  1623456\n",
       "2           The Dark Knight     Action         2008     9.0  2304567\n",
       "3              12 Angry Men      Drama         1957     9.0  1345678\n",
       "4          Schindler's List  Biography         1993     8.9  1234567"
      ]
     },
     "execution_count": 4,
     "metadata": {},
     "output_type": "execute_result"
    }
   ],
   "source": [
    "df.head()"
   ]
  },
  {
   "cell_type": "code",
   "execution_count": 5,
   "metadata": {},
   "outputs": [
    {
     "data": {
      "text/html": [
       "<div>\n",
       "<style scoped>\n",
       "    .dataframe tbody tr th:only-of-type {\n",
       "        vertical-align: middle;\n",
       "    }\n",
       "\n",
       "    .dataframe tbody tr th {\n",
       "        vertical-align: top;\n",
       "    }\n",
       "\n",
       "    .dataframe thead th {\n",
       "        text-align: right;\n",
       "    }\n",
       "</style>\n",
       "<table border=\"1\" class=\"dataframe\">\n",
       "  <thead>\n",
       "    <tr style=\"text-align: right;\">\n",
       "      <th></th>\n",
       "      <th>ReleaseYear</th>\n",
       "      <th>Rating</th>\n",
       "      <th>Reviews</th>\n",
       "    </tr>\n",
       "  </thead>\n",
       "  <tbody>\n",
       "    <tr>\n",
       "      <th>count</th>\n",
       "      <td>10.000000</td>\n",
       "      <td>10.00000</td>\n",
       "      <td>1.000000e+01</td>\n",
       "    </tr>\n",
       "    <tr>\n",
       "      <th>mean</th>\n",
       "      <td>1988.000000</td>\n",
       "      <td>8.96000</td>\n",
       "      <td>1.775518e+06</td>\n",
       "    </tr>\n",
       "    <tr>\n",
       "      <th>std</th>\n",
       "      <td>16.931233</td>\n",
       "      <td>0.17127</td>\n",
       "      <td>5.491420e+05</td>\n",
       "    </tr>\n",
       "    <tr>\n",
       "      <th>min</th>\n",
       "      <td>1957.000000</td>\n",
       "      <td>8.80000</td>\n",
       "      <td>9.876540e+05</td>\n",
       "    </tr>\n",
       "    <tr>\n",
       "      <th>25%</th>\n",
       "      <td>1977.250000</td>\n",
       "      <td>8.82500</td>\n",
       "      <td>1.262345e+06</td>\n",
       "    </tr>\n",
       "    <tr>\n",
       "      <th>50%</th>\n",
       "      <td>1994.000000</td>\n",
       "      <td>8.90000</td>\n",
       "      <td>1.805555e+06</td>\n",
       "    </tr>\n",
       "    <tr>\n",
       "      <th>75%</th>\n",
       "      <td>1997.750000</td>\n",
       "      <td>9.00000</td>\n",
       "      <td>2.335400e+06</td>\n",
       "    </tr>\n",
       "    <tr>\n",
       "      <th>max</th>\n",
       "      <td>2008.000000</td>\n",
       "      <td>9.30000</td>\n",
       "      <td>2.345678e+06</td>\n",
       "    </tr>\n",
       "  </tbody>\n",
       "</table>\n",
       "</div>"
      ],
      "text/plain": [
       "       ReleaseYear    Rating       Reviews\n",
       "count    10.000000  10.00000  1.000000e+01\n",
       "mean   1988.000000   8.96000  1.775518e+06\n",
       "std      16.931233   0.17127  5.491420e+05\n",
       "min    1957.000000   8.80000  9.876540e+05\n",
       "25%    1977.250000   8.82500  1.262345e+06\n",
       "50%    1994.000000   8.90000  1.805555e+06\n",
       "75%    1997.750000   9.00000  2.335400e+06\n",
       "max    2008.000000   9.30000  2.345678e+06"
      ]
     },
     "execution_count": 5,
     "metadata": {},
     "output_type": "execute_result"
    }
   ],
   "source": [
    "df.describe()"
   ]
  },
  {
   "cell_type": "code",
   "execution_count": 6,
   "metadata": {},
   "outputs": [
    {
     "data": {
      "text/plain": [
       "Title          0\n",
       "Genre          0\n",
       "ReleaseYear    0\n",
       "Rating         0\n",
       "Reviews        0\n",
       "dtype: int64"
      ]
     },
     "execution_count": 6,
     "metadata": {},
     "output_type": "execute_result"
    }
   ],
   "source": [
    "df.isnull().sum()"
   ]
  },
  {
   "cell_type": "markdown",
   "metadata": {},
   "source": [
    "**Task 2**"
   ]
  },
  {
   "cell_type": "code",
   "execution_count": 9,
   "metadata": {},
   "outputs": [
    {
     "data": {
      "text/plain": [
       "Text(0, 0.5, 'Frequency')"
      ]
     },
     "execution_count": 9,
     "metadata": {},
     "output_type": "execute_result"
    },
    {
     "data": {
      "image/png": "[encoded data removed]",
      "text/plain": [
       "<Figure size 640x480 with 1 Axes>"
      ]
     },
     "metadata": {},
     "output_type": "display_data"
    }
   ],
   "source": [
    "plt.hist(df[\"Rating\"], bins = 5)\n",
    "plt.title(\"Distribution of Ratings\")\n",
    "plt.grid(True)\n",
    "plt.xlabel(\"Rating\")\n",
    "plt.ylabel(\"Frequency\")"
   ]
  },
  {
   "cell_type": "markdown",
   "metadata": {},
   "source": [
    "**Task 3**"
   ]
  },
  {
   "cell_type": "code",
   "execution_count": 21,
   "metadata": {},
   "outputs": [
    {
     "data": {
      "text/plain": [
       "Genre\n",
       "Drama        4\n",
       "Crime        2\n",
       "Action       1\n",
       "Biography    1\n",
       "Adventure    1\n",
       "Western      1\n",
       "Name: count, dtype: int64"
      ]
     },
     "execution_count": 21,
     "metadata": {},
     "output_type": "execute_result"
    }
   ],
   "source": [
    "genre_count = df[\"Genre\"].value_counts()\n",
    "genre_count"
   ]
  },
  {
   "cell_type": "code",
   "execution_count": 26,
   "metadata": {},
   "outputs": [
    {
     "data": {
      "image/png": "[encoded data removed]",
      "text/plain": [
       "<Figure size 640x480 with 1 Axes>"
      ]
     },
     "metadata": {},
     "output_type": "display_data"
    }
   ],
   "source": [
    "plt.bar(genre_count.index, genre_count.values, color = 'red')\n",
    "plt.title(\"Genre Count\")\n",
    "plt.xlabel(\"Count\")\n",
    "plt.ylabel(\"Genre\")\n",
    "plt.xticks(rotation=15)\n",
    "plt.grid(True)"
   ]
  },
  {
   "cell_type": "markdown",
   "metadata": {},
   "source": [
    "**Task 4/5**"
   ]
  },
  {
   "cell_type": "code",
   "execution_count": 35,
   "metadata": {},
   "outputs": [
    {
     "data": {
      "text/plain": [
       "<matplotlib.legend.Legend at 0x1579e3810>"
      ]
     },
     "execution_count": 35,
     "metadata": {},
     "output_type": "execute_result"
    },
    {
     "data": {
      "image/png": "[encoded data removed]",
      "text/plain": [
       "<Figure size 640x480 with 1 Axes>"
      ]
     },
     "metadata": {},
     "output_type": "display_data"
    }
   ],
   "source": [
    "plt.scatter(df[\"Rating\"],df[\"Reviews\"], color = \"blue\", label=\"Number Of Reviews vs Ratings\")\n",
    "plt.title(\"Rating vs Number of Reviews\")\n",
    "plt.xlabel(\"Review Score\")\n",
    "plt.ylabel(\"Number of Reviews\")\n",
    "plt.grid(True)\n",
    "plt.legend()\n",
    "\n",
    "# Calculate the line of best fit\n",
    "slope, intercept = np.polyfit(df['Rating'], df['Reviews'], 1)\n",
    "best_fit_line = slope * df['Rating'] + intercept\n",
    "\n",
    "# Plot the line of best fit\n",
    "plt.plot(df['Rating'], best_fit_line, color='red', label='Best Fit Line')\n",
    "plt.legend()"
   ]
  },
  {
   "cell_type": "code",
   "execution_count": null,
   "metadata": {},
   "outputs": [],
   "source": []
  },
  {
   "cell_type": "code",
   "execution_count": null,
   "metadata": {},
   "outputs": [],
   "source": []
  }
 ],
 "metadata": {
  "kernelspec": {
   "display_name": "base",
   "language": "python",
   "name": "python3"
  },
  "language_info": {
   "codemirror_mode": {
    "name": "ipython",
    "version": 3
   },
   "file_extension": ".py",
   "mimetype": "text/x-python",
   "name": "python",
   "nbconvert_exporter": "python",
   "pygments_lexer": "ipython3",
   "version": "3.11.7"
  }
 },
 "nbformat": 4,
 "nbformat_minor": 2
}
