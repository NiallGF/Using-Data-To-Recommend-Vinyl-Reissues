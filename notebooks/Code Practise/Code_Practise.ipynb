{
 "cells": [
  {
   "cell_type": "markdown",
   "id": "ff9ed502-cb11-460b-ab70-a87c271dc12d",
   "metadata": {},
   "source": [
    "**Sample Coding Question:**\n",
    "Question: \"Given a dataset containing sales data, write a Python function to calculate the total sales for each product category. The dataset is provided as a pandas DataFrame with columns ProductID, Category, and Sales.\""
   ]
  },
  {
   "cell_type": "code",
   "execution_count": 1,
   "id": "28455479-1292-4a9a-8b5a-a1f3cdf9996b",
   "metadata": {},
   "outputs": [
    {
     "name": "stdout",
     "output_type": "stream",
     "text": [
      "Sample DataFrame:\n",
      "   ProductID     Category  Sales\n",
      "0        101  Electronics   1500\n",
      "1        102     Clothing    250\n",
      "2        103  Electronics   2300\n",
      "3        104     Clothing    300\n",
      "4        105         Home   1200\n",
      "5        106         Home    700\n"
     ]
    }
   ],
   "source": [
    "import pandas as pd\n",
    "\n",
    "# Sample DataFrame to simulate the sales data\n",
    "data = {\n",
    "    'ProductID': [101, 102, 103, 104, 105, 106],\n",
    "    'Category': ['Electronics', 'Clothing', 'Electronics', 'Clothing', 'Home', 'Home'],\n",
    "    'Sales': [1500, 250, 2300, 300, 1200, 700]\n",
    "}\n",
    "\n",
    "df = pd.DataFrame(data)\n",
    "print(\"Sample DataFrame:\")\n",
    "print(df)\n"
   ]
  },
  {
   "cell_type": "code",
   "execution_count": 21,
   "id": "236c8e59-a97b-4590-99a9-f19fe298f112",
   "metadata": {},
   "outputs": [
    {
     "data": {
      "text/plain": [
       "Category\n",
       "Clothing        550\n",
       "Electronics    3800\n",
       "Home           1900\n",
       "Name: Sales, dtype: int64"
      ]
     },
     "execution_count": 21,
     "metadata": {},
     "output_type": "execute_result"
    }
   ],
   "source": [
    "sum_cat = df.groupby('Category')['Sales'].sum()\n",
    "sum_cat"
   ]
  },
  {
   "cell_type": "markdown",
   "id": "61fd0d79-a24e-4fb7-8446-e59c2e124561",
   "metadata": {},
   "source": [
    "**Sample Coding Question:**\n",
    "Question: \"Given a DataFrame containing user data with columns UserID, Age, and Subscription, write a Python function to calculate the average age of users for each subscription type.\""
   ]
  },
  {
   "cell_type": "code",
   "execution_count": 23,
   "id": "c29862d1-a9fc-48c9-9d1d-1ce649c67786",
   "metadata": {},
   "outputs": [
    {
     "name": "stdout",
     "output_type": "stream",
     "text": [
      "Sample DataFrame:\n",
      "   UserID  Age Subscription\n",
      "0       1   23        Basic\n",
      "1       2   45      Premium\n",
      "2       3   25        Basic\n",
      "3       4   35      Premium\n",
      "4       5   40        Basic\n",
      "5       6   22      Premium\n"
     ]
    }
   ],
   "source": [
    "import pandas as pd\n",
    "\n",
    "# Sample DataFrame to simulate the user data\n",
    "data = {\n",
    "    'UserID': [1, 2, 3, 4, 5, 6],\n",
    "    'Age': [23, 45, 25, 35, 40, 22],\n",
    "    'Subscription': ['Basic', 'Premium', 'Basic', 'Premium', 'Basic', 'Premium']\n",
    "}\n",
    "\n",
    "df = pd.DataFrame(data)\n",
    "print(\"Sample DataFrame:\")\n",
    "print(df)"
   ]
  },
  {
   "cell_type": "code",
   "execution_count": 29,
   "id": "0b4d8595-e95b-4161-beff-5c540eb9672a",
   "metadata": {},
   "outputs": [
    {
     "data": {
      "text/plain": [
       "Subscription\n",
       "Basic      29.333333\n",
       "Premium    34.000000\n",
       "Name: Age, dtype: float64"
      ]
     },
     "execution_count": 29,
     "metadata": {},
     "output_type": "execute_result"
    }
   ],
   "source": [
    "mean_age = df.groupby('Subscription')['Age'].mean()\n",
    "mean_age"
   ]
  },
  {
   "cell_type": "markdown",
   "id": "88b23b22-6514-4bbb-8a30-d1fad2ae0aca",
   "metadata": {},
   "source": [
    "**Sample Coding Question:**\n",
    "Question: \"Given a DataFrame containing sales data with columns Date, Product, and Revenue, write a Python function to calculate the total revenue generated per product per month. The Date column is in the format YYYY-MM-DD.\""
   ]
  },
  {
   "cell_type": "code",
   "execution_count": 32,
   "id": "b5b7191f-9e81-4dcc-95da-3f8c3c431837",
   "metadata": {},
   "outputs": [
    {
     "name": "stdout",
     "output_type": "stream",
     "text": [
      "Sample DataFrame:\n",
      "         Date Product  Revenue\n",
      "0  2023-01-15       A      100\n",
      "1  2023-01-20       B      200\n",
      "2  2023-02-05       A      150\n",
      "3  2023-02-15       B      250\n",
      "4  2023-03-01       A      300\n",
      "5  2023-03-10       B      350\n"
     ]
    }
   ],
   "source": [
    "import pandas as pd\n",
    "\n",
    "# Sample DataFrame to simulate the sales data\n",
    "data = {\n",
    "    'Date': ['2023-01-15', '2023-01-20', '2023-02-05', '2023-02-15', '2023-03-01', '2023-03-10'],\n",
    "    'Product': ['A', 'B', 'A', 'B', 'A', 'B'],\n",
    "    'Revenue': [100, 200, 150, 250, 300, 350]\n",
    "}\n",
    "\n",
    "df = pd.DataFrame(data)\n",
    "print(\"Sample DataFrame:\")\n",
    "print(df)"
   ]
  },
  {
   "cell_type": "code",
   "execution_count": 60,
   "id": "c4d32dcd-466e-4bd5-a116-faa979ca0d32",
   "metadata": {},
   "outputs": [
    {
     "data": {
      "text/plain": [
       "YearMonth  Product\n",
       "2023-01    A          100\n",
       "           B          200\n",
       "2023-02    A          150\n",
       "           B          250\n",
       "2023-03    A          300\n",
       "           B          350\n",
       "Name: Revenue, dtype: int64"
      ]
     },
     "execution_count": 60,
     "metadata": {},
     "output_type": "execute_result"
    }
   ],
   "source": [
    "df['Date'] = pd.to_datetime(df['Date'])\n",
    "\n",
    "df['YearMonth'] = df['Date'].dt.to_period('M')\n",
    "\n",
    "df_monthly_sales = df.groupby(['YearMonth','Product'])['Revenue'].sum()\n",
    "df_monthly_sales"
   ]
  },
  {
   "cell_type": "markdown",
   "id": "31215f11-f9a7-4ca6-ba94-4dbbeaf52d86",
   "metadata": {},
   "source": [
    "**Sample Coding Question:**\n",
    "Question: \"Given a DataFrame containing employee data with columns EmployeeID, Department, Salary, write a Python function to calculate the average salary for each department.\""
   ]
  },
  {
   "cell_type": "code",
   "execution_count": 63,
   "id": "adfedad8-88cd-4f4d-accb-c854561367bc",
   "metadata": {},
   "outputs": [
    {
     "data": {
      "text/html": [
       "<div>\n",
       "<style scoped>\n",
       "    .dataframe tbody tr th:only-of-type {\n",
       "        vertical-align: middle;\n",
       "    }\n",
       "\n",
       "    .dataframe tbody tr th {\n",
       "        vertical-align: top;\n",
       "    }\n",
       "\n",
       "    .dataframe thead th {\n",
       "        text-align: right;\n",
       "    }\n",
       "</style>\n",
       "<table border=\"1\" class=\"dataframe\">\n",
       "  <thead>\n",
       "    <tr style=\"text-align: right;\">\n",
       "      <th></th>\n",
       "      <th>EmployeeID</th>\n",
       "      <th>Department</th>\n",
       "      <th>Salary</th>\n",
       "    </tr>\n",
       "  </thead>\n",
       "  <tbody>\n",
       "    <tr>\n",
       "      <th>0</th>\n",
       "      <td>1234</td>\n",
       "      <td>a</td>\n",
       "      <td>1000</td>\n",
       "    </tr>\n",
       "    <tr>\n",
       "      <th>1</th>\n",
       "      <td>2345</td>\n",
       "      <td>b</td>\n",
       "      <td>2000</td>\n",
       "    </tr>\n",
       "    <tr>\n",
       "      <th>2</th>\n",
       "      <td>3456</td>\n",
       "      <td>c</td>\n",
       "      <td>1000</td>\n",
       "    </tr>\n",
       "    <tr>\n",
       "      <th>3</th>\n",
       "      <td>4567</td>\n",
       "      <td>a</td>\n",
       "      <td>3000</td>\n",
       "    </tr>\n",
       "    <tr>\n",
       "      <th>4</th>\n",
       "      <td>5678</td>\n",
       "      <td>a</td>\n",
       "      <td>2000</td>\n",
       "    </tr>\n",
       "    <tr>\n",
       "      <th>5</th>\n",
       "      <td>6789</td>\n",
       "      <td>b</td>\n",
       "      <td>1000</td>\n",
       "    </tr>\n",
       "  </tbody>\n",
       "</table>\n",
       "</div>"
      ],
      "text/plain": [
       "  EmployeeID Department  Salary\n",
       "0       1234          a    1000\n",
       "1       2345          b    2000\n",
       "2       3456          c    1000\n",
       "3       4567          a    3000\n",
       "4       5678          a    2000\n",
       "5       6789          b    1000"
      ]
     },
     "execution_count": 63,
     "metadata": {},
     "output_type": "execute_result"
    }
   ],
   "source": [
    "data = {\n",
    "    'EmployeeID': ['1234','2345','3456','4567','5678','6789'],\n",
    "    'Department': ['a','b','c','a','a','b'],\n",
    "    'Salary': [1000,2000,1000,3000,2000,1000]\n",
    "}\n",
    "\n",
    "df = pd.DataFrame(data)\n",
    "df"
   ]
  },
  {
   "cell_type": "code",
   "execution_count": 65,
   "id": "74e1678a-b78d-4216-b932-14610e6d34bf",
   "metadata": {},
   "outputs": [
    {
     "data": {
      "text/plain": [
       "Department\n",
       "a    2000.0\n",
       "b    1500.0\n",
       "c    1000.0\n",
       "Name: Salary, dtype: float64"
      ]
     },
     "execution_count": 65,
     "metadata": {},
     "output_type": "execute_result"
    }
   ],
   "source": [
    "avg_sal = df.groupby('Department')['Salary'].mean()\n",
    "avg_sal"
   ]
  },
  {
   "cell_type": "markdown",
   "id": "695318b4-6d9d-499d-9d22-5feebe03d880",
   "metadata": {},
   "source": [
    "**Sample Coding Question:**\n",
    "Question: \"Given a DataFrame containing student grades with columns StudentID, Subject, and Grade, write a Python function to calculate the average grade for each student across all subjects.\""
   ]
  },
  {
   "cell_type": "code",
   "execution_count": 70,
   "id": "7aaa77a2-e6a3-42ec-b10c-778f2d1a234e",
   "metadata": {},
   "outputs": [
    {
     "data": {
      "text/html": [
       "<div>\n",
       "<style scoped>\n",
       "    .dataframe tbody tr th:only-of-type {\n",
       "        vertical-align: middle;\n",
       "    }\n",
       "\n",
       "    .dataframe tbody tr th {\n",
       "        vertical-align: top;\n",
       "    }\n",
       "\n",
       "    .dataframe thead th {\n",
       "        text-align: right;\n",
       "    }\n",
       "</style>\n",
       "<table border=\"1\" class=\"dataframe\">\n",
       "  <thead>\n",
       "    <tr style=\"text-align: right;\">\n",
       "      <th></th>\n",
       "      <th>StudentID</th>\n",
       "      <th>Subject</th>\n",
       "      <th>Grade</th>\n",
       "    </tr>\n",
       "  </thead>\n",
       "  <tbody>\n",
       "    <tr>\n",
       "      <th>0</th>\n",
       "      <td>s1</td>\n",
       "      <td>Science</td>\n",
       "      <td>80</td>\n",
       "    </tr>\n",
       "    <tr>\n",
       "      <th>1</th>\n",
       "      <td>s2</td>\n",
       "      <td>Math</td>\n",
       "      <td>70</td>\n",
       "    </tr>\n",
       "    <tr>\n",
       "      <th>2</th>\n",
       "      <td>s1</td>\n",
       "      <td>Science</td>\n",
       "      <td>50</td>\n",
       "    </tr>\n",
       "    <tr>\n",
       "      <th>3</th>\n",
       "      <td>s1</td>\n",
       "      <td>English</td>\n",
       "      <td>30</td>\n",
       "    </tr>\n",
       "    <tr>\n",
       "      <th>4</th>\n",
       "      <td>s3</td>\n",
       "      <td>CompSci</td>\n",
       "      <td>80</td>\n",
       "    </tr>\n",
       "    <tr>\n",
       "      <th>5</th>\n",
       "      <td>s2</td>\n",
       "      <td>English</td>\n",
       "      <td>60</td>\n",
       "    </tr>\n",
       "  </tbody>\n",
       "</table>\n",
       "</div>"
      ],
      "text/plain": [
       "  StudentID  Subject  Grade\n",
       "0        s1  Science     80\n",
       "1        s2     Math     70\n",
       "2        s1  Science     50\n",
       "3        s1  English     30\n",
       "4        s3  CompSci     80\n",
       "5        s2  English     60"
      ]
     },
     "execution_count": 70,
     "metadata": {},
     "output_type": "execute_result"
    }
   ],
   "source": [
    "data = {\n",
    "    'StudentID': ['s1','s2','s1','s1','s3','s2'],\n",
    "    'Subject': ['Science','Math','Science','English','CompSci','English'],\n",
    "    'Grade': [80,70,50,30,80,60]\n",
    "}\n",
    "\n",
    "df = pd.DataFrame(data)\n",
    "df"
   ]
  },
  {
   "cell_type": "code",
   "execution_count": 74,
   "id": "5011be53-fda9-4da2-9e46-2e274e7da4fe",
   "metadata": {},
   "outputs": [
    {
     "data": {
      "text/plain": [
       "StudentID\n",
       "s1    53.333333\n",
       "s2    65.000000\n",
       "s3    80.000000\n",
       "Name: Grade, dtype: float64"
      ]
     },
     "execution_count": 74,
     "metadata": {},
     "output_type": "execute_result"
    }
   ],
   "source": [
    "avg_grade = df.groupby('StudentID')['Grade'].mean()\n",
    "avg_grade"
   ]
  },
  {
   "cell_type": "markdown",
   "id": "77691219-bef7-43e6-a2d9-915ae6b06995",
   "metadata": {},
   "source": [
    "**Sample Coding Question:**\n",
    "Question: \"Given two DataFrames, one containing employee information (EmployeeID, Name, Department) and another containing their salaries (EmployeeID, Salary), write a Python function to merge these DataFrames and then filter out employees with a salary greater than a specified amount.\""
   ]
  },
  {
   "cell_type": "code",
   "execution_count": 97,
   "id": "530e2062-5e79-453f-9927-966f2f66f622",
   "metadata": {},
   "outputs": [
    {
     "name": "stdout",
     "output_type": "stream",
     "text": [
      "  EmployeeID    Name  Department\n",
      "0          1     Rob          IT\n",
      "1          2   Emily       Sales\n",
      "2          3    Sham          IT\n",
      "3          4  Marcus   Marketing\n",
      "4          5    Jade  Management\n",
      "5          6  Olivia   Marketing\n",
      "\n",
      "\n",
      "  EmployeeID  Salary\n",
      "0          1   20000\n",
      "1          3   30000\n",
      "2          2   40000\n",
      "3          4   30000\n",
      "4          5   50000\n",
      "5          6   35000\n"
     ]
    }
   ],
   "source": [
    "data1 = {\n",
    "    'EmployeeID': ['1','2','3','4','5','6'],\n",
    "    'Name': ['Rob','Emily','Sham','Marcus','Jade','Olivia'],\n",
    "    'Department': ['IT','Sales','IT','Marketing','Management','Marketing']\n",
    "}\n",
    "\n",
    "data2 = {\n",
    "    'EmployeeID': ['1','3','2','4','5','6'],\n",
    "    'Salary': [20000,30000,40000,30000,50000,35000]\n",
    "}\n",
    "\n",
    "df1 = pd.DataFrame(data1)\n",
    "df2 = pd.DataFrame(data2)\n",
    "\n",
    "print(df1)\n",
    "print(\"\\n\")\n",
    "print(df2)"
   ]
  },
  {
   "cell_type": "code",
   "execution_count": 95,
   "id": "0aae7784-4759-453e-b336-f7408c3c2374",
   "metadata": {},
   "outputs": [
    {
     "data": {
      "text/html": [
       "<div>\n",
       "<style scoped>\n",
       "    .dataframe tbody tr th:only-of-type {\n",
       "        vertical-align: middle;\n",
       "    }\n",
       "\n",
       "    .dataframe tbody tr th {\n",
       "        vertical-align: top;\n",
       "    }\n",
       "\n",
       "    .dataframe thead th {\n",
       "        text-align: right;\n",
       "    }\n",
       "</style>\n",
       "<table border=\"1\" class=\"dataframe\">\n",
       "  <thead>\n",
       "    <tr style=\"text-align: right;\">\n",
       "      <th></th>\n",
       "      <th>EmployeeID</th>\n",
       "      <th>Name</th>\n",
       "      <th>Department</th>\n",
       "      <th>Salary</th>\n",
       "    </tr>\n",
       "  </thead>\n",
       "  <tbody>\n",
       "    <tr>\n",
       "      <th>0</th>\n",
       "      <td>1</td>\n",
       "      <td>Rob</td>\n",
       "      <td>IT</td>\n",
       "      <td>20000</td>\n",
       "    </tr>\n",
       "    <tr>\n",
       "      <th>1</th>\n",
       "      <td>2</td>\n",
       "      <td>Emily</td>\n",
       "      <td>Sales</td>\n",
       "      <td>40000</td>\n",
       "    </tr>\n",
       "    <tr>\n",
       "      <th>2</th>\n",
       "      <td>3</td>\n",
       "      <td>Sham</td>\n",
       "      <td>IT</td>\n",
       "      <td>30000</td>\n",
       "    </tr>\n",
       "    <tr>\n",
       "      <th>3</th>\n",
       "      <td>4</td>\n",
       "      <td>Marcus</td>\n",
       "      <td>Marketing</td>\n",
       "      <td>30000</td>\n",
       "    </tr>\n",
       "    <tr>\n",
       "      <th>4</th>\n",
       "      <td>5</td>\n",
       "      <td>Jade</td>\n",
       "      <td>Management</td>\n",
       "      <td>50000</td>\n",
       "    </tr>\n",
       "    <tr>\n",
       "      <th>5</th>\n",
       "      <td>6</td>\n",
       "      <td>Olivia</td>\n",
       "      <td>Marketing</td>\n",
       "      <td>35000</td>\n",
       "    </tr>\n",
       "  </tbody>\n",
       "</table>\n",
       "</div>"
      ],
      "text/plain": [
       "  EmployeeID    Name  Department  Salary\n",
       "0          1     Rob          IT   20000\n",
       "1          2   Emily       Sales   40000\n",
       "2          3    Sham          IT   30000\n",
       "3          4  Marcus   Marketing   30000\n",
       "4          5    Jade  Management   50000\n",
       "5          6  Olivia   Marketing   35000"
      ]
     },
     "execution_count": 95,
     "metadata": {},
     "output_type": "execute_result"
    }
   ],
   "source": [
    "df_add_sal = pd.merge(df1,df2, on=['EmployeeID'])\n",
    "df_add_sal"
   ]
  },
  {
   "cell_type": "code",
   "execution_count": 111,
   "id": "f918ea25-441b-42ae-bfa3-7427f217bded",
   "metadata": {},
   "outputs": [
    {
     "data": {
      "text/html": [
       "<div>\n",
       "<style scoped>\n",
       "    .dataframe tbody tr th:only-of-type {\n",
       "        vertical-align: middle;\n",
       "    }\n",
       "\n",
       "    .dataframe tbody tr th {\n",
       "        vertical-align: top;\n",
       "    }\n",
       "\n",
       "    .dataframe thead th {\n",
       "        text-align: right;\n",
       "    }\n",
       "</style>\n",
       "<table border=\"1\" class=\"dataframe\">\n",
       "  <thead>\n",
       "    <tr style=\"text-align: right;\">\n",
       "      <th></th>\n",
       "      <th>EmployeeID</th>\n",
       "      <th>Name</th>\n",
       "      <th>Department</th>\n",
       "      <th>Salary</th>\n",
       "    </tr>\n",
       "  </thead>\n",
       "  <tbody>\n",
       "    <tr>\n",
       "      <th>0</th>\n",
       "      <td>1</td>\n",
       "      <td>Rob</td>\n",
       "      <td>IT</td>\n",
       "      <td>20000</td>\n",
       "    </tr>\n",
       "    <tr>\n",
       "      <th>2</th>\n",
       "      <td>3</td>\n",
       "      <td>Sham</td>\n",
       "      <td>IT</td>\n",
       "      <td>30000</td>\n",
       "    </tr>\n",
       "    <tr>\n",
       "      <th>3</th>\n",
       "      <td>4</td>\n",
       "      <td>Marcus</td>\n",
       "      <td>Marketing</td>\n",
       "      <td>30000</td>\n",
       "    </tr>\n",
       "  </tbody>\n",
       "</table>\n",
       "</div>"
      ],
      "text/plain": [
       "  EmployeeID    Name Department  Salary\n",
       "0          1     Rob         IT   20000\n",
       "2          3    Sham         IT   30000\n",
       "3          4  Marcus  Marketing   30000"
      ]
     },
     "execution_count": 111,
     "metadata": {},
     "output_type": "execute_result"
    }
   ],
   "source": [
    "df_remove_top_earners = df_add_sal[df_add_sal['Salary']<=30000]\n",
    "df_remove_top_earners"
   ]
  },
  {
   "cell_type": "markdown",
   "id": "93e7b16e-9744-4b9b-891b-cbc09bb68d98",
   "metadata": {},
   "source": [
    "Adding a raise to the joined tables"
   ]
  },
  {
   "cell_type": "code",
   "execution_count": 115,
   "id": "8bb1338d-c91e-4c14-838e-7ea5f77fee7e",
   "metadata": {},
   "outputs": [
    {
     "data": {
      "text/html": [
       "<div>\n",
       "<style scoped>\n",
       "    .dataframe tbody tr th:only-of-type {\n",
       "        vertical-align: middle;\n",
       "    }\n",
       "\n",
       "    .dataframe tbody tr th {\n",
       "        vertical-align: top;\n",
       "    }\n",
       "\n",
       "    .dataframe thead th {\n",
       "        text-align: right;\n",
       "    }\n",
       "</style>\n",
       "<table border=\"1\" class=\"dataframe\">\n",
       "  <thead>\n",
       "    <tr style=\"text-align: right;\">\n",
       "      <th></th>\n",
       "      <th>EmployeeID</th>\n",
       "      <th>Name</th>\n",
       "      <th>Department</th>\n",
       "      <th>Salary</th>\n",
       "      <th>Raise</th>\n",
       "    </tr>\n",
       "  </thead>\n",
       "  <tbody>\n",
       "    <tr>\n",
       "      <th>0</th>\n",
       "      <td>1</td>\n",
       "      <td>Rob</td>\n",
       "      <td>IT</td>\n",
       "      <td>20000</td>\n",
       "      <td>21000.0</td>\n",
       "    </tr>\n",
       "    <tr>\n",
       "      <th>1</th>\n",
       "      <td>2</td>\n",
       "      <td>Emily</td>\n",
       "      <td>Sales</td>\n",
       "      <td>40000</td>\n",
       "      <td>42000.0</td>\n",
       "    </tr>\n",
       "    <tr>\n",
       "      <th>2</th>\n",
       "      <td>3</td>\n",
       "      <td>Sham</td>\n",
       "      <td>IT</td>\n",
       "      <td>30000</td>\n",
       "      <td>31500.0</td>\n",
       "    </tr>\n",
       "    <tr>\n",
       "      <th>3</th>\n",
       "      <td>4</td>\n",
       "      <td>Marcus</td>\n",
       "      <td>Marketing</td>\n",
       "      <td>30000</td>\n",
       "      <td>31500.0</td>\n",
       "    </tr>\n",
       "    <tr>\n",
       "      <th>4</th>\n",
       "      <td>5</td>\n",
       "      <td>Jade</td>\n",
       "      <td>Management</td>\n",
       "      <td>50000</td>\n",
       "      <td>52500.0</td>\n",
       "    </tr>\n",
       "    <tr>\n",
       "      <th>5</th>\n",
       "      <td>6</td>\n",
       "      <td>Olivia</td>\n",
       "      <td>Marketing</td>\n",
       "      <td>35000</td>\n",
       "      <td>36750.0</td>\n",
       "    </tr>\n",
       "  </tbody>\n",
       "</table>\n",
       "</div>"
      ],
      "text/plain": [
       "  EmployeeID    Name  Department  Salary    Raise\n",
       "0          1     Rob          IT   20000  21000.0\n",
       "1          2   Emily       Sales   40000  42000.0\n",
       "2          3    Sham          IT   30000  31500.0\n",
       "3          4  Marcus   Marketing   30000  31500.0\n",
       "4          5    Jade  Management   50000  52500.0\n",
       "5          6  Olivia   Marketing   35000  36750.0"
      ]
     },
     "execution_count": 115,
     "metadata": {},
     "output_type": "execute_result"
    }
   ],
   "source": [
    "df_add_sal['Raise'] = df_add_sal['Salary']*1.05 \n",
    "df_add_sal"
   ]
  },
  {
   "cell_type": "markdown",
   "id": "9ce0c804-6bfc-4f8c-b434-14a298b2b69f",
   "metadata": {},
   "source": [
    "**Another Coding Question:**\n",
    "Question: \"Given a DataFrame containing order information with columns OrderID, CustomerID, OrderDate, and OrderAmount, write a Python function to calculate the total order amount for each customer and find the customer who spent the most.\""
   ]
  },
  {
   "cell_type": "code",
   "execution_count": 119,
   "id": "2856112e-0b73-46fa-9fb1-8cd224749fc4",
   "metadata": {},
   "outputs": [
    {
     "name": "stdout",
     "output_type": "stream",
     "text": [
      "Sample DataFrame:\n",
      "  OrderID CustomerID   OrderDate  OrderAmount\n",
      "0      O1         C1  2023-01-01          100\n",
      "1      O2         C2  2023-01-05          200\n",
      "2      O3         C1  2023-01-10          150\n",
      "3      O4         C3  2023-01-15          300\n",
      "4      O5         C2  2023-01-20          250\n",
      "5      O6         C3  2023-01-25          400\n"
     ]
    }
   ],
   "source": [
    "import pandas as pd\n",
    "\n",
    "# Sample DataFrame to simulate order information\n",
    "data = {\n",
    "    'OrderID': ['O1', 'O2', 'O3', 'O4', 'O5', 'O6'],\n",
    "    'CustomerID': ['C1', 'C2', 'C1', 'C3', 'C2', 'C3'],\n",
    "    'OrderDate': ['2023-01-01', '2023-01-05', '2023-01-10', '2023-01-15', '2023-01-20', '2023-01-25'],\n",
    "    'OrderAmount': [100, 200, 150, 300, 250, 400]\n",
    "}\n",
    "\n",
    "df = pd.DataFrame(data)\n",
    "print(\"Sample DataFrame:\")\n",
    "print(df)"
   ]
  },
  {
   "cell_type": "code",
   "execution_count": 143,
   "id": "f66c24df-93bf-45ea-a232-34a5af0a9dba",
   "metadata": {},
   "outputs": [
    {
     "name": "stdout",
     "output_type": "stream",
     "text": [
      "\n",
      "The customer who has spent the most will appear as the first entry in the below table:\n",
      "\n",
      " CustomerID\n",
      "C3    700\n",
      "C2    450\n",
      "C1    250\n",
      "Name: OrderAmount, dtype: int64\n"
     ]
    }
   ],
   "source": [
    "df_customer_spend = df.groupby('CustomerID')['OrderAmount'].sum().sort_values(ascending = False)\n",
    "print(\"\\nThe customer who has spent the most will appear as the first entry in the below table:\\n\\n\",df_customer_spend)"
   ]
  },
  {
   "cell_type": "markdown",
   "id": "60ca6ef9-c727-404a-b66c-3ef4ee1a49f3",
   "metadata": {},
   "source": [
    "Question: \"Given the same DataFrame, write a Python function to find the average order amount for each customer and sort the results in descending order.\""
   ]
  },
  {
   "cell_type": "code",
   "execution_count": 150,
   "id": "7aa78c35-7d7a-4e19-adf1-ca25eb1db555",
   "metadata": {},
   "outputs": [
    {
     "name": "stdout",
     "output_type": "stream",
     "text": [
      "\n",
      "The average customer spend is:\n",
      "\n",
      " CustomerID\n",
      "C3    350.0\n",
      "C2    225.0\n",
      "C1    125.0\n",
      "Name: OrderAmount, dtype: float64\n"
     ]
    }
   ],
   "source": [
    "df_avg_spend = df.groupby('CustomerID')['OrderAmount'].mean().sort_values(ascending=False)\n",
    "df_avg_spend\n",
    "print(\"\\nThe average customer spend is:\\n\\n\",df_avg_spend)"
   ]
  },
  {
   "cell_type": "markdown",
   "id": "beca4ce4-f43a-4724-9d39-dc6f2f1463b1",
   "metadata": {},
   "source": [
    "**Sample Coding Question:**\n",
    "Question: \"Given a DataFrame containing sales data with columns SalesID, Product, Region, SalesDate, and SalesAmount, write a Python function to calculate the total sales for each product in each region for the year 2023. Additionally, add a new column to indicate whether each sale was above or below the average sales amount for that product.\""
   ]
  },
  {
   "cell_type": "code",
   "execution_count": 153,
   "id": "01868a4e-f541-4360-bb6d-ff81026d63ea",
   "metadata": {},
   "outputs": [
    {
     "name": "stdout",
     "output_type": "stream",
     "text": [
      "Sample DataFrame:\n",
      "  SalesID Product Region   SalesDate  SalesAmount\n",
      "0      S1       A  North  2023-01-05          500\n",
      "1      S2       B  South  2023-02-15          300\n",
      "2      S3       A  North  2023-03-25          700\n",
      "3      S4       C   East  2022-12-30          200\n",
      "4      S5       B  South  2023-04-05          400\n",
      "5      S6       C   East  2023-06-18          600\n",
      "6      S7       A   West  2023-08-22          800\n",
      "7      S8       B  North  2023-11-30          350\n"
     ]
    }
   ],
   "source": [
    "import pandas as pd\n",
    "\n",
    "# Sample DataFrame to simulate sales data\n",
    "data = {\n",
    "    'SalesID': ['S1', 'S2', 'S3', 'S4', 'S5', 'S6', 'S7', 'S8'],\n",
    "    'Product': ['A', 'B', 'A', 'C', 'B', 'C', 'A', 'B'],\n",
    "    'Region': ['North', 'South', 'North', 'East', 'South', 'East', 'West', 'North'],\n",
    "    'SalesDate': ['2023-01-05', '2023-02-15', '2023-03-25', '2022-12-30', '2023-04-05', '2023-06-18', '2023-08-22', '2023-11-30'],\n",
    "    'SalesAmount': [500, 300, 700, 200, 400, 600, 800, 350]\n",
    "}\n",
    "\n",
    "df = pd.DataFrame(data)\n",
    "print(\"Sample DataFrame:\")\n",
    "print(df)"
   ]
  },
  {
   "cell_type": "code",
   "execution_count": 219,
   "id": "83bd9e42-10a8-4e57-9ed6-8a9419dd0782",
   "metadata": {},
   "outputs": [
    {
     "data": {
      "text/html": [
       "<div>\n",
       "<style scoped>\n",
       "    .dataframe tbody tr th:only-of-type {\n",
       "        vertical-align: middle;\n",
       "    }\n",
       "\n",
       "    .dataframe tbody tr th {\n",
       "        vertical-align: top;\n",
       "    }\n",
       "\n",
       "    .dataframe thead th {\n",
       "        text-align: right;\n",
       "    }\n",
       "</style>\n",
       "<table border=\"1\" class=\"dataframe\">\n",
       "  <thead>\n",
       "    <tr style=\"text-align: right;\">\n",
       "      <th></th>\n",
       "      <th>Region</th>\n",
       "      <th>Product</th>\n",
       "      <th>SalesAmount</th>\n",
       "    </tr>\n",
       "  </thead>\n",
       "  <tbody>\n",
       "    <tr>\n",
       "      <th>0</th>\n",
       "      <td>East</td>\n",
       "      <td>C</td>\n",
       "      <td>600</td>\n",
       "    </tr>\n",
       "    <tr>\n",
       "      <th>1</th>\n",
       "      <td>North</td>\n",
       "      <td>A</td>\n",
       "      <td>1200</td>\n",
       "    </tr>\n",
       "    <tr>\n",
       "      <th>2</th>\n",
       "      <td>North</td>\n",
       "      <td>B</td>\n",
       "      <td>350</td>\n",
       "    </tr>\n",
       "    <tr>\n",
       "      <th>3</th>\n",
       "      <td>South</td>\n",
       "      <td>B</td>\n",
       "      <td>700</td>\n",
       "    </tr>\n",
       "    <tr>\n",
       "      <th>4</th>\n",
       "      <td>West</td>\n",
       "      <td>A</td>\n",
       "      <td>800</td>\n",
       "    </tr>\n",
       "  </tbody>\n",
       "</table>\n",
       "</div>"
      ],
      "text/plain": [
       "  Region Product  SalesAmount\n",
       "0   East       C          600\n",
       "1  North       A         1200\n",
       "2  North       B          350\n",
       "3  South       B          700\n",
       "4   West       A          800"
      ]
     },
     "execution_count": 219,
     "metadata": {},
     "output_type": "execute_result"
    }
   ],
   "source": [
    "df['SalesDate'] = pd.to_datetime(df['SalesDate'])\n",
    "\n",
    "df['Year'] = df['SalesDate'].dt.to_period('Y')\n",
    "\n",
    "df_2023 = df[df['Year'] == '2023']\n",
    "\n",
    "df_total_sales_2023 = df_2023.groupby(['Region','Product'])['SalesAmount'].sum().reset_index()\n",
    "df_total_sales_2023"
   ]
  },
  {
   "cell_type": "code",
   "execution_count": 223,
   "id": "c56c9a34-b0bc-455d-9657-5c1b241e9a15",
   "metadata": {},
   "outputs": [
    {
     "data": {
      "text/plain": [
       "730.0"
      ]
     },
     "execution_count": 223,
     "metadata": {},
     "output_type": "execute_result"
    }
   ],
   "source": [
    "avg_sales_amnt = df_total_sales_2023['SalesAmount'].mean()\n",
    "avg_sales_amnt"
   ]
  },
  {
   "cell_type": "code",
   "execution_count": 227,
   "id": "fefddb5f-8c98-435f-bc1b-fd58df5a74a0",
   "metadata": {},
   "outputs": [
    {
     "data": {
      "text/html": [
       "<div>\n",
       "<style scoped>\n",
       "    .dataframe tbody tr th:only-of-type {\n",
       "        vertical-align: middle;\n",
       "    }\n",
       "\n",
       "    .dataframe tbody tr th {\n",
       "        vertical-align: top;\n",
       "    }\n",
       "\n",
       "    .dataframe thead th {\n",
       "        text-align: right;\n",
       "    }\n",
       "</style>\n",
       "<table border=\"1\" class=\"dataframe\">\n",
       "  <thead>\n",
       "    <tr style=\"text-align: right;\">\n",
       "      <th></th>\n",
       "      <th>Region</th>\n",
       "      <th>Product</th>\n",
       "      <th>SalesAmount</th>\n",
       "      <th>Above Average</th>\n",
       "    </tr>\n",
       "  </thead>\n",
       "  <tbody>\n",
       "    <tr>\n",
       "      <th>0</th>\n",
       "      <td>East</td>\n",
       "      <td>C</td>\n",
       "      <td>600</td>\n",
       "      <td>False</td>\n",
       "    </tr>\n",
       "    <tr>\n",
       "      <th>1</th>\n",
       "      <td>North</td>\n",
       "      <td>A</td>\n",
       "      <td>1200</td>\n",
       "      <td>True</td>\n",
       "    </tr>\n",
       "    <tr>\n",
       "      <th>2</th>\n",
       "      <td>North</td>\n",
       "      <td>B</td>\n",
       "      <td>350</td>\n",
       "      <td>False</td>\n",
       "    </tr>\n",
       "    <tr>\n",
       "      <th>3</th>\n",
       "      <td>South</td>\n",
       "      <td>B</td>\n",
       "      <td>700</td>\n",
       "      <td>False</td>\n",
       "    </tr>\n",
       "    <tr>\n",
       "      <th>4</th>\n",
       "      <td>West</td>\n",
       "      <td>A</td>\n",
       "      <td>800</td>\n",
       "      <td>True</td>\n",
       "    </tr>\n",
       "  </tbody>\n",
       "</table>\n",
       "</div>"
      ],
      "text/plain": [
       "  Region Product  SalesAmount  Above Average\n",
       "0   East       C          600          False\n",
       "1  North       A         1200           True\n",
       "2  North       B          350          False\n",
       "3  South       B          700          False\n",
       "4   West       A          800           True"
      ]
     },
     "execution_count": 227,
     "metadata": {},
     "output_type": "execute_result"
    }
   ],
   "source": [
    "df_total_sales_2023['Above Average'] = df_total_sales_2023['SalesAmount']>=avg_sales_amnt\n",
    "df_total_sales_2023"
   ]
  },
  {
   "cell_type": "code",
   "execution_count": null,
   "id": "0551c428-797c-473d-800c-f647bc8c8fda",
   "metadata": {},
   "outputs": [],
   "source": []
  }
 ],
 "metadata": {
  "kernelspec": {
   "display_name": "Python 3 (ipykernel)",
   "language": "python",
   "name": "python3"
  },
  "language_info": {
   "codemirror_mode": {
    "name": "ipython",
    "version": 3
   },
   "file_extension": ".py",
   "mimetype": "text/x-python",
   "name": "python",
   "nbconvert_exporter": "python",
   "pygments_lexer": "ipython3",
   "version": "3.11.7"
  }
 },
 "nbformat": 4,
 "nbformat_minor": 5
}
